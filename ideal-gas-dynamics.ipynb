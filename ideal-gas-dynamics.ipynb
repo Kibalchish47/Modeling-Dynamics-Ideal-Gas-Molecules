{
 "cells": [
  {
   "cell_type": "markdown",
   "metadata": {},
   "source": [
    "# Setting up the computational model\n",
    "To simulate the motion of molecules according to the kinetic theory of gases, we need to set up a dynamic n-body simulation with collisions. Note that the objective of this article is to produce a simulation for pedagogical purposes. Therefore, the code is set up to maximize understanding, not execution speed."
   ]
  },
  {
   "cell_type": "markdown",
   "metadata": {},
   "source": [
    "## Defining molecular properties\n",
    "We start by importing all the required modules."
   ]
  },
  {
   "cell_type": "code",
   "execution_count": 1,
   "metadata": {},
   "outputs": [],
   "source": [
    "import os\n",
    "import sys\n",
    "import time\n",
    "import numpy as np\n",
    "import scipy as sci\n",
    "import matplotlib.pyplot as plt\n",
    "from matplotlib.animation import FuncAnimation"
   ]
  },
  {
   "cell_type": "markdown",
   "metadata": {},
   "source": [
    "First, we will define a class called Molecule. Objects of this class will store properties such as the masses, positions and velocities of molecules in the simulation. We also define an attribute called color, that may be used to distinguish between different gases and set the color of the points in the animation."
   ]
  },
  {
   "cell_type": "code",
   "execution_count": null,
   "metadata": {},
   "outputs": [],
   "source": [
    "class Molecule(object):\n",
    "    #Constructor\n",
    "    def __init__(self, molecule, position, velocity, mass, color=\"black\"):\n",
    "        self.molecule = molecule\n",
    "        self.position = np.array([x_i for x_i in position])\n",
    "        self.velocity = np.array([v_i for v_i in velocity])\n",
    "        self.mass = mass\n",
    "        self.color = color\n",
    "       \n",
    "    #Setters for position, velocity, mass and color\n",
    "    def set_position(self, position):\n",
    "        self.position = np.array([x_i for x_i in position])\n",
    "        \n",
    "    def set_velocity(self,velocity):\n",
    "        self.velocity = np.array([v_i for v_i in velocity])\n",
    "        \n",
    "    def set_color(self, color):\n",
    "        self.color = color\n",
    "    \n",
    "    def set_mass(self, mass):\n",
    "        self.mass = mass\n",
    "        \n",
    "    #Getters for position, velocity, mass and color\n",
    "    def get_position(self):\n",
    "        return self.position\n",
    "    \n",
    "    def get_velocity(self):\n",
    "        return self.velocity\n",
    "        \n",
    "    def get_color(self):\n",
    "        return self.color\n",
    "        \n",
    "    def get_mass(self):\n",
    "        return self.mass"
   ]
  },
  {
   "cell_type": "markdown",
   "metadata": {},
   "source": [
    "## Adding molecules to a box\n",
    "Next, we create a Simulation class and define key input parameters, such as the dimensions of the simulation box, that ultimately control the volume of the gas. We also initialize variables for bookkeeping, such as for the wall momentum, that will allow us to calculate pressure."
   ]
  },
  {
   "cell_type": "code",
   "execution_count": null,
   "metadata": {},
   "outputs": [],
   "source": [
    "class Simulation(object):\n",
    "    # Constructor\n",
    "    def __init__(self,name,box_dim,t_step,particle_radius):\n",
    "        # Set simulation inputs\n",
    "        self.name = name # Name of the simulation\n",
    "        self.box_dim = [x for x in box_dim] # Dimensions of the box\n",
    "        self.t_step = t_step # Timestep\n",
    "        self.particle_radius = particle_radius # Radius of the particles\n",
    "        \n",
    "        # Calculate volume and number of dimensions\n",
    "        self.V = np.prod(self.box_dim) # Area/Volume of the box\n",
    "        self.dim = int(len(box_dim)) # Number of dimensions (2D or 3D)\n",
    "        \n",
    "        # Initialize paramters\n",
    "        self.molecules = [] # Create empty list to store objects of class Molecule\n",
    "        self.n_molecules = 0 # Create variable to store number of molecules\n",
    "        self.wall_collisions = 0 # Create variable to store number of wall collisions\n",
    "        self.wall_momentum = 0 # Create variable to store net momentum exchanged with wall"
   ]
  }
 ],
 "metadata": {
  "kernelspec": {
   "display_name": "base",
   "language": "python",
   "name": "python3"
  },
  "language_info": {
   "codemirror_mode": {
    "name": "ipython",
    "version": 3
   },
   "file_extension": ".py",
   "mimetype": "text/x-python",
   "name": "python",
   "nbconvert_exporter": "python",
   "pygments_lexer": "ipython3",
   "version": "3.11.4"
  },
  "orig_nbformat": 4
 },
 "nbformat": 4,
 "nbformat_minor": 2
}
